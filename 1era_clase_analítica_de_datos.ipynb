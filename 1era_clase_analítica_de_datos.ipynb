{
  "nbformat": 4,
  "nbformat_minor": 0,
  "metadata": {
    "colab": {
      "provenance": []
    },
    "kernelspec": {
      "name": "python3",
      "display_name": "Python 3"
    },
    "language_info": {
      "name": "python"
    }
  },
  "cells": [
    {
      "cell_type": "markdown",
      "source": [
        "# Contenido\n",
        "1. Variables aritméticas\n",
        "2. Funciones\n",
        "3. Condicionales"
      ],
      "metadata": {
        "id": "cGBc4o9eZ6be"
      }
    },
    {
      "cell_type": "markdown",
      "source": [
        "### 1 Variables aritméticas"
      ],
      "metadata": {
        "id": "wDd6zAUnbIJf"
      }
    },
    {
      "cell_type": "code",
      "source": [
        "#instrucción para imprimir mensajes\n",
        "print(\"Este es mi primer código\")"
      ],
      "metadata": {
        "colab": {
          "base_uri": "https://localhost:8080/"
        },
        "id": "2kigvIFRWbCV",
        "outputId": "33e47337-fff2-4e89-d72c-958e8a605af8"
      },
      "execution_count": 1,
      "outputs": [
        {
          "output_type": "stream",
          "name": "stdout",
          "text": [
            "Hola mundo\n"
          ]
        }
      ]
    },
    {
      "cell_type": "code",
      "source": [
        "#Definición de variables y operaciones aritméticas\n",
        "a=2\n",
        "b=3\n",
        "c=a+b\n",
        "print(\"El resultado es:\",c)"
      ],
      "metadata": {
        "id": "mev6gFilaaZ1"
      },
      "execution_count": null,
      "outputs": []
    },
    {
      "cell_type": "code",
      "source": [
        "d=4*5\n",
        "print(\"El resultado de la multiplicación es:\",d)\n",
        "e=35/8\n",
        "print(\"El resultado de la división es:\", e)"
      ],
      "metadata": {
        "id": "YcJ1aIyhbha5"
      },
      "execution_count": null,
      "outputs": []
    },
    {
      "cell_type": "code",
      "source": [
        "precio=1199.99\n",
        "print(\"el precio es: \", precio)\n",
        "print(f\"el precio es: ${precio}\")\n",
        "print(f\"el precio es:${precio:,}\")"
      ],
      "metadata": {
        "colab": {
          "base_uri": "https://localhost:8080/"
        },
        "id": "1_VVHM7HbzjY",
        "outputId": "6f413eb0-df2e-4dd4-b48e-36956518a512"
      },
      "execution_count": 2,
      "outputs": [
        {
          "output_type": "stream",
          "name": "stdout",
          "text": [
            "el precio es:  1199.99\n",
            "el precio es: $1199.99\n",
            "el precio es:$1,199.99\n"
          ]
        }
      ]
    },
    {
      "cell_type": "markdown",
      "source": [],
      "metadata": {
        "id": "HQTwpORvbyig"
      }
    },
    {
      "cell_type": "code",
      "source": [
        "var_uno= input(\"Dame el primer número\") #pide el num\n",
        "v_uno=int(var_uno) #conierto la info de texto a num\n",
        "var_dos=int(input(\"Dame el segundo número\"))\n",
        "print(\"\\n\")\n",
        "\n",
        "print(\"El primer número es\", var_uno)\n",
        "print(\"El segundo número es\", var_dos)\n",
        "print(\"La suma es\", v_uno+var_dos)\n",
        "print(\"La resta es\", v_uno-var_dos)\n",
        "print(\"La multiplicación es\", v_uno*var_dos)\n",
        "print(\"La división es\", v_uno/var_dos)\n",
        "print(\"La potencia es\",v_uno**var_dos)"
      ],
      "metadata": {
        "id": "X3gm-Zzcm8vM"
      },
      "execution_count": null,
      "outputs": []
    },
    {
      "cell_type": "code",
      "source": [
        "variable=int(input(\"Dame el pirmer número\"))\n",
        "print(\"El primer núm es\", variable)\n",
        "print(\"El segundo num es\", round(variable/3,2))"
      ],
      "metadata": {
        "id": "vCU76eQln_y4"
      },
      "execution_count": null,
      "outputs": []
    },
    {
      "cell_type": "code",
      "source": [],
      "metadata": {
        "colab": {
          "base_uri": "https://localhost:8080/",
          "height": 106
        },
        "id": "JQoZBr_IsZGJ",
        "outputId": "a334cfa5-6553-4943-dec2-c74bd08d61e0"
      },
      "execution_count": 3,
      "outputs": [
        {
          "output_type": "error",
          "ename": "SyntaxError",
          "evalue": "invalid syntax (ipython-input-3182741345.py, line 1)",
          "traceback": [
            "\u001b[0;36m  File \u001b[0;32m\"/tmp/ipython-input-3182741345.py\"\u001b[0;36m, line \u001b[0;32m1\u001b[0m\n\u001b[0;31m    print(type(15:15))\u001b[0m\n\u001b[0m                 ^\u001b[0m\n\u001b[0;31mSyntaxError\u001b[0m\u001b[0;31m:\u001b[0m invalid syntax\n"
          ]
        }
      ]
    }
  ]
}